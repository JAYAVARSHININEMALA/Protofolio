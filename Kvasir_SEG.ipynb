{
  "metadata": {
    "kernelspec": {
      "language": "python",
      "display_name": "Python 3",
      "name": "python3"
    },
    "language_info": {
      "name": "python",
      "version": "3.10.12",
      "mimetype": "text/x-python",
      "codemirror_mode": {
        "name": "ipython",
        "version": 3
      },
      "pygments_lexer": "ipython3",
      "nbconvert_exporter": "python",
      "file_extension": ".py"
    },
    "kaggle": {
      "accelerator": "none",
      "dataSources": [
        {
          "sourceId": 4708268,
          "sourceType": "datasetVersion",
          "datasetId": 2723494
        }
      ],
      "dockerImageVersionId": 30559,
      "isInternetEnabled": true,
      "language": "python",
      "sourceType": "notebook",
      "isGpuEnabled": false
    },
    "colab": {
      "name": "Kvasir-SEG",
      "provenance": [],
      "include_colab_link": true
    }
  },
  "nbformat_minor": 0,
  "nbformat": 4,
  "cells": [
    {
      "cell_type": "markdown",
      "metadata": {
        "id": "view-in-github",
        "colab_type": "text"
      },
      "source": [
        "<a href=\"https://colab.research.google.com/github/JAYAVARSHININEMALA/Protofolio/blob/main/Kvasir_SEG.ipynb\" target=\"_parent\"><img src=\"https://colab.research.google.com/assets/colab-badge.svg\" alt=\"Open In Colab\"/></a>"
      ]
    },
    {
      "source": [
        "\n",
        "# IMPORTANT: RUN THIS CELL IN ORDER TO IMPORT YOUR KAGGLE DATA SOURCES\n",
        "# TO THE CORRECT LOCATION (/kaggle/input) IN YOUR NOTEBOOK,\n",
        "# THEN FEEL FREE TO DELETE THIS CELL.\n",
        "# NOTE: THIS NOTEBOOK ENVIRONMENT DIFFERS FROM KAGGLE'S PYTHON\n",
        "# ENVIRONMENT SO THERE MAY BE MISSING LIBRARIES USED BY YOUR\n",
        "# NOTEBOOK.\n",
        "\n",
        "import os\n",
        "import sys\n",
        "from tempfile import NamedTemporaryFile\n",
        "from urllib.request import urlopen\n",
        "from urllib.parse import unquote, urlparse\n",
        "from urllib.error import HTTPError\n",
        "from zipfile import ZipFile\n",
        "import tarfile\n",
        "import shutil\n",
        "\n",
        "CHUNK_SIZE = 40960\n",
        "DATA_SOURCE_MAPPING = 'kvasir-dataset-for-classification-and-segmentation:https%3A%2F%2Fstorage.googleapis.com%2Fkaggle-data-sets%2F2723494%2F4708268%2Fbundle%2Farchive.zip%3FX-Goog-Algorithm%3DGOOG4-RSA-SHA256%26X-Goog-Credential%3Dgcp-kaggle-com%2540kaggle-161607.iam.gserviceaccount.com%252F20240318%252Fauto%252Fstorage%252Fgoog4_request%26X-Goog-Date%3D20240318T162959Z%26X-Goog-Expires%3D259200%26X-Goog-SignedHeaders%3Dhost%26X-Goog-Signature%3Db7536a00691c6b907edf0d6b66edef382bfebede5f9b627a1dc97dd14933a898097ee76100029e20763ad929c002b4c67688fdf7b1003cb904c54f504212384dc77127e9e89e831cbdfcea1b5654e0eab355a9274398e4586f1f54969a92dba5e9242909db04a8a61c8e1e0eb8f98f91b04c28329c8c0d000fc47110cef9b13ed2d1cc27023ff74070aea36f96d8aa5746062717ee61d4499ce13c5fc1a38c44639fbdf3083900d95c3e28f9a06bac1c140ed83f8f77a6d48dd0c55c7646ab51bc83bc926ccb118589cdf3fe3ae27b9f9402beb1178f1940bf27eed20a2838345f6322f8f1fbd5de6f01e8f5298bfa7c5346a62895e7ec462c8229543752e29d'\n",
        "\n",
        "KAGGLE_INPUT_PATH='/kaggle/input'\n",
        "KAGGLE_WORKING_PATH='/kaggle/working'\n",
        "KAGGLE_SYMLINK='kaggle'\n",
        "\n",
        "!umount /kaggle/input/ 2> /dev/null\n",
        "shutil.rmtree('/kaggle/input', ignore_errors=True)\n",
        "os.makedirs(KAGGLE_INPUT_PATH, 0o777, exist_ok=True)\n",
        "os.makedirs(KAGGLE_WORKING_PATH, 0o777, exist_ok=True)\n",
        "\n",
        "try:\n",
        "  os.symlink(KAGGLE_INPUT_PATH, os.path.join(\"..\", 'input'), target_is_directory=True)\n",
        "except FileExistsError:\n",
        "  pass\n",
        "try:\n",
        "  os.symlink(KAGGLE_WORKING_PATH, os.path.join(\"..\", 'working'), target_is_directory=True)\n",
        "except FileExistsError:\n",
        "  pass\n",
        "\n",
        "for data_source_mapping in DATA_SOURCE_MAPPING.split(','):\n",
        "    directory, download_url_encoded = data_source_mapping.split(':')\n",
        "    download_url = unquote(download_url_encoded)\n",
        "    filename = urlparse(download_url).path\n",
        "    destination_path = os.path.join(KAGGLE_INPUT_PATH, directory)\n",
        "    try:\n",
        "        with urlopen(download_url) as fileres, NamedTemporaryFile() as tfile:\n",
        "            total_length = fileres.headers['content-length']\n",
        "            print(f'Downloading {directory}, {total_length} bytes compressed')\n",
        "            dl = 0\n",
        "            data = fileres.read(CHUNK_SIZE)\n",
        "            while len(data) > 0:\n",
        "                dl += len(data)\n",
        "                tfile.write(data)\n",
        "                done = int(50 * dl / int(total_length))\n",
        "                sys.stdout.write(f\"\\r[{'=' * done}{' ' * (50-done)}] {dl} bytes downloaded\")\n",
        "                sys.stdout.flush()\n",
        "                data = fileres.read(CHUNK_SIZE)\n",
        "            if filename.endswith('.zip'):\n",
        "              with ZipFile(tfile) as zfile:\n",
        "                zfile.extractall(destination_path)\n",
        "            else:\n",
        "              with tarfile.open(tfile.name) as tarfile:\n",
        "                tarfile.extractall(destination_path)\n",
        "            print(f'\\nDownloaded and uncompressed: {directory}')\n",
        "    except HTTPError as e:\n",
        "        print(f'Failed to load (likely expired) {download_url} to path {destination_path}')\n",
        "        continue\n",
        "    except OSError as e:\n",
        "        print(f'Failed to load {download_url} to path {destination_path}')\n",
        "        continue\n",
        "\n",
        "print('Data source import complete.')\n"
      ],
      "metadata": {
        "id": "37PFmww1ZkH4",
        "outputId": "0f203c11-7f37-4e77-85e5-1d0fd553a554",
        "colab": {
          "base_uri": "https://localhost:8080/"
        }
      },
      "cell_type": "code",
      "outputs": [
        {
          "output_type": "stream",
          "name": "stdout",
          "text": [
            "Downloading kvasir-dataset-for-classification-and-segmentation, 1284468900 bytes compressed\n",
            "[==================================================] 1284468900 bytes downloaded\n",
            "Downloaded and uncompressed: kvasir-dataset-for-classification-and-segmentation\n",
            "Data source import complete.\n"
          ]
        }
      ],
      "execution_count": 1
    },
    {
      "cell_type": "markdown",
      "source": [
        "### ### ###"
      ],
      "metadata": {
        "id": "yJQ3zDrOZkH8"
      }
    },
    {
      "cell_type": "code",
      "source": [
        "# import system libs\n",
        "import os\n",
        "import time\n",
        "import random\n",
        "import pathlib\n",
        "import itertools\n",
        "from glob import glob\n",
        "from tqdm import tqdm_notebook, tnrange"
      ],
      "metadata": {
        "execution": {
          "iopub.status.busy": "2023-12-24T07:54:06.509535Z",
          "iopub.execute_input": "2023-12-24T07:54:06.511478Z",
          "iopub.status.idle": "2023-12-24T07:54:06.53815Z",
          "shell.execute_reply.started": "2023-12-24T07:54:06.511372Z",
          "shell.execute_reply": "2023-12-24T07:54:06.536837Z"
        },
        "trusted": true,
        "id": "BRuvdZC9ZkH_"
      },
      "execution_count": 2,
      "outputs": []
    },
    {
      "cell_type": "code",
      "source": [
        "# import data handling tools\n",
        "import cv2\n",
        "import numpy as np\n",
        "import pandas as pd\n",
        "import seaborn as sns\n",
        "sns.set_style('darkgrid')\n",
        "import matplotlib.pyplot as plt\n",
        "%matplotlib inline\n",
        "from skimage.color import rgb2gray\n",
        "from skimage.transform import resize\n",
        "from sklearn.model_selection import train_test_split\n",
        "from skimage.io import imread, imshow, concatenate_images\n",
        "\n",
        "import warnings\n",
        "\n",
        "# Ignore all warnings\n",
        "warnings.filterwarnings(\"ignore\")"
      ],
      "metadata": {
        "execution": {
          "iopub.status.busy": "2023-12-24T07:54:06.540622Z",
          "iopub.execute_input": "2023-12-24T07:54:06.541248Z",
          "iopub.status.idle": "2023-12-24T07:54:08.906995Z",
          "shell.execute_reply.started": "2023-12-24T07:54:06.541211Z",
          "shell.execute_reply": "2023-12-24T07:54:08.905754Z"
        },
        "trusted": true,
        "id": "yaYQ8TCwZkH_"
      },
      "execution_count": 3,
      "outputs": []
    },
    {
      "cell_type": "code",
      "source": [
        "import tensorflow as tf\n",
        "from tensorflow import keras\n",
        "from tensorflow.keras import backend as K\n",
        "from tensorflow.keras.models import Model, load_model, save_model\n",
        "from tensorflow.keras.preprocessing.image import ImageDataGenerator\n",
        "from tensorflow.keras.optimizers import Adam, Adamax\n",
        "from tensorflow.keras.callbacks import EarlyStopping, ModelCheckpoint\n",
        "from tensorflow.keras.layers import Input, Activation, BatchNormalization, Dropout, Lambda, Conv2D, Conv2DTranspose, MaxPooling2D, concatenate"
      ],
      "metadata": {
        "execution": {
          "iopub.status.busy": "2023-12-24T07:54:08.90825Z",
          "iopub.execute_input": "2023-12-24T07:54:08.908734Z",
          "iopub.status.idle": "2023-12-24T07:54:15.730283Z",
          "shell.execute_reply.started": "2023-12-24T07:54:08.908704Z",
          "shell.execute_reply": "2023-12-24T07:54:15.724826Z"
        },
        "trusted": true,
        "id": "6dM7QcqAZkIA"
      },
      "execution_count": 4,
      "outputs": []
    },
    {
      "cell_type": "code",
      "source": [
        "IMG_CHANNELS, IMG_WIDTH, IMG_HEIGHT = 3, 512, 512"
      ],
      "metadata": {
        "execution": {
          "iopub.status.busy": "2023-12-24T07:54:15.731131Z",
          "iopub.status.idle": "2023-12-24T07:54:15.731555Z",
          "shell.execute_reply.started": "2023-12-24T07:54:15.731357Z",
          "shell.execute_reply": "2023-12-24T07:54:15.731377Z"
        },
        "trusted": true,
        "id": "IbZ8mblSZkIB"
      },
      "execution_count": 5,
      "outputs": []
    },
    {
      "cell_type": "code",
      "source": [
        "X = next(os.walk('/kaggle/input/kvasir-dataset-for-classification-and-segmentation/kvasir-seg/Kvasir-SEG/images'))[2]\n",
        "y = next(os.walk('/kaggle/input/kvasir-dataset-for-classification-and-segmentation/kvasir-seg/Kvasir-SEG/masks'))[2]"
      ],
      "metadata": {
        "execution": {
          "iopub.status.busy": "2023-12-24T07:54:15.732698Z",
          "iopub.status.idle": "2023-12-24T07:54:15.733119Z",
          "shell.execute_reply.started": "2023-12-24T07:54:15.732933Z",
          "shell.execute_reply": "2023-12-24T07:54:15.732952Z"
        },
        "trusted": true,
        "id": "rk154aYNZkIB"
      },
      "execution_count": 6,
      "outputs": []
    },
    {
      "cell_type": "code",
      "source": [
        "# X_test = X[-10:]\n",
        "# y_test = y[-10:]"
      ],
      "metadata": {
        "execution": {
          "iopub.status.busy": "2023-12-24T07:54:15.734625Z",
          "iopub.status.idle": "2023-12-24T07:54:15.73502Z",
          "shell.execute_reply.started": "2023-12-24T07:54:15.734832Z",
          "shell.execute_reply": "2023-12-24T07:54:15.73485Z"
        },
        "trusted": true,
        "id": "MkGjPze6ZkIC"
      },
      "execution_count": 7,
      "outputs": []
    },
    {
      "cell_type": "code",
      "source": [
        "X_ids = X[:]\n",
        "y_ids = y[:]"
      ],
      "metadata": {
        "execution": {
          "iopub.status.busy": "2023-12-24T07:54:15.73663Z",
          "iopub.status.idle": "2023-12-24T07:54:15.737017Z",
          "shell.execute_reply.started": "2023-12-24T07:54:15.736836Z",
          "shell.execute_reply": "2023-12-24T07:54:15.736854Z"
        },
        "trusted": true,
        "id": "51-UOEzPZkIC"
      },
      "execution_count": null,
      "outputs": []
    },
    {
      "cell_type": "code",
      "source": [
        "X_tr = np.zeros((len(X_ids), 256, 256, 3))\n",
        "y_tr = np.zeros((len(y_ids), 256, 256, 1), dtype=np.bool_)\n",
        "print(y_tr.shape)"
      ],
      "metadata": {
        "execution": {
          "iopub.status.busy": "2023-12-24T07:54:15.738434Z",
          "iopub.status.idle": "2023-12-24T07:54:15.738828Z",
          "shell.execute_reply.started": "2023-12-24T07:54:15.73863Z",
          "shell.execute_reply": "2023-12-24T07:54:15.738647Z"
        },
        "trusted": true,
        "id": "zPve6_oKZkID"
      },
      "execution_count": null,
      "outputs": []
    },
    {
      "cell_type": "code",
      "source": [
        "X_train = np.zeros((len(X_ids), 256, 256, 3), dtype=np.float32)\n",
        "y_train = np.zeros((len(y_ids), 256, 256, 1), dtype=np.bool_)\n",
        "\n",
        "for n, id_ in enumerate(X_ids):\n",
        "    image = tf.keras.preprocessing.image.load_img(f'/kaggle/input/kvasir-dataset-for-classification-and-segmentation/kvasir-seg/Kvasir-SEG/images/{id_}', target_size=(IMG_HEIGHT, IMG_WIDTH))\n",
        "    input_arr = tf.keras.preprocessing.image.img_to_array(image)\n",
        "    image = tf.keras.preprocessing.image.array_to_img(input_arr, ).resize((256, 256))\n",
        "    X_train[n] = np.array(image)\n",
        "\n",
        "for n, id_ in enumerate(y_ids):\n",
        "    image = tf.keras.preprocessing.image.load_img(f'/kaggle/input/kvasir-dataset-for-classification-and-segmentation/kvasir-seg/Kvasir-SEG/masks/{id_}',\n",
        "                                                  target_size=(IMG_HEIGHT, IMG_WIDTH), color_mode=\"grayscale\")\n",
        "    input_arr = tf.keras.preprocessing.image.img_to_array(image)\n",
        "    image = tf.keras.preprocessing.image.array_to_img(input_arr).resize((256, 256))\n",
        "    y_train[n] = np.array(image)[:, :, np.newaxis]"
      ],
      "metadata": {
        "execution": {
          "iopub.status.busy": "2023-12-24T07:54:15.74024Z",
          "iopub.status.idle": "2023-12-24T07:54:15.740578Z",
          "shell.execute_reply.started": "2023-12-24T07:54:15.740414Z",
          "shell.execute_reply": "2023-12-24T07:54:15.74043Z"
        },
        "trusted": true,
        "id": "KN3gc_nwZkID"
      },
      "execution_count": null,
      "outputs": []
    },
    {
      "cell_type": "code",
      "source": [
        "X_train.shape"
      ],
      "metadata": {
        "execution": {
          "iopub.status.busy": "2023-12-24T07:54:15.741724Z",
          "iopub.status.idle": "2023-12-24T07:54:15.742418Z",
          "shell.execute_reply.started": "2023-12-24T07:54:15.742226Z",
          "shell.execute_reply": "2023-12-24T07:54:15.742246Z"
        },
        "trusted": true,
        "id": "kGAirj5KZkIE"
      },
      "execution_count": null,
      "outputs": []
    },
    {
      "cell_type": "code",
      "source": [
        "X_train, X_test, y_train, y_test = train_test_split(X_train, y_train, test_size=0.2, random_state=13)"
      ],
      "metadata": {
        "execution": {
          "iopub.status.busy": "2023-12-24T07:54:15.743104Z",
          "iopub.status.idle": "2023-12-24T07:54:15.743464Z",
          "shell.execute_reply.started": "2023-12-24T07:54:15.743282Z",
          "shell.execute_reply": "2023-12-24T07:54:15.743299Z"
        },
        "trusted": true,
        "id": "JTV1H4WFZkIF"
      },
      "execution_count": null,
      "outputs": []
    },
    {
      "cell_type": "code",
      "source": [
        "X_train_reshaped = X_train.reshape((X_train.shape[0], X_train.shape[1], X_train.shape[2], X_train.shape[3]))"
      ],
      "metadata": {
        "execution": {
          "iopub.status.busy": "2023-12-24T07:54:15.744591Z",
          "iopub.status.idle": "2023-12-24T07:54:15.744927Z",
          "shell.execute_reply.started": "2023-12-24T07:54:15.744754Z",
          "shell.execute_reply": "2023-12-24T07:54:15.744783Z"
        },
        "trusted": true,
        "id": "oh7EO7E7ZkIF"
      },
      "execution_count": null,
      "outputs": []
    },
    {
      "cell_type": "code",
      "source": [
        "print(X_train_reshaped.shape)\n",
        "print(X_train.shape)"
      ],
      "metadata": {
        "execution": {
          "iopub.status.busy": "2023-12-24T07:54:15.745938Z",
          "iopub.status.idle": "2023-12-24T07:54:15.746274Z",
          "shell.execute_reply.started": "2023-12-24T07:54:15.746113Z",
          "shell.execute_reply": "2023-12-24T07:54:15.746129Z"
        },
        "trusted": true,
        "id": "-3LHdJCJZkIF"
      },
      "execution_count": null,
      "outputs": []
    },
    {
      "cell_type": "code",
      "source": [
        "plt.figure(figsize=(12, 8))\n",
        "img=cv2.imread('/kaggle/input/kvasir-dataset-for-classification-and-segmentation/kvasir-seg/Kvasir-SEG/images/cju0qkwl35piu0993l0dewei2.jpg')\n",
        "msk=cv2.imread('/kaggle/input/kvasir-dataset-for-classification-and-segmentation/kvasir-seg/Kvasir-SEG/masks/cju0qkwl35piu0993l0dewei2.jpg')\n",
        "\n",
        "plt.subplot(1, 3, 1)\n",
        "plt.imshow(cv2.cvtColor(img, cv2.COLOR_BGR2RGB))\n",
        "plt.axis(False)\n",
        "\n",
        "plt.subplot(1, 3, 2)\n",
        "plt.imshow(cv2.cvtColor(msk, cv2.COLOR_BGR2RGB))\n",
        "plt.axis(False)\n",
        "\n",
        "plt.subplot(1, 3, 3)\n",
        "plt.imshow(cv2.cvtColor(img, cv2.COLOR_BGR2RGB))\n",
        "plt.imshow(cv2.cvtColor(msk, cv2.COLOR_BGR2RGB),alpha=0.5)\n",
        "plt.axis(False)\n",
        "plt.show()"
      ],
      "metadata": {
        "execution": {
          "iopub.status.busy": "2023-12-24T07:54:15.747174Z",
          "iopub.status.idle": "2023-12-24T07:54:15.747515Z",
          "shell.execute_reply.started": "2023-12-24T07:54:15.747351Z",
          "shell.execute_reply": "2023-12-24T07:54:15.747367Z"
        },
        "trusted": true,
        "id": "NqJUsMihZkIG"
      },
      "execution_count": null,
      "outputs": []
    },
    {
      "cell_type": "code",
      "source": [
        "# Create an ImageDataGenerator\n",
        "data_gen_args = dict(\n",
        "    rotation_range=45.,\n",
        "    width_shift_range=0.1,\n",
        "    height_shift_range=0.1,\n",
        "    shear_range=0.2,\n",
        "    zoom_range=0.2,\n",
        "    horizontal_flip=True,\n",
        "    vertical_flip=True,\n",
        "    fill_mode='reflect'\n",
        ")\n",
        "\n",
        "# Create separate generators for X_train and y_train\n",
        "X_datagen = ImageDataGenerator(**data_gen_args)\n",
        "Y_datagen = ImageDataGenerator(**data_gen_args)\n",
        "\n",
        "# Fit the generators on your data\n",
        "X_datagen.fit(X_train_reshaped, augment=True, seed=13)\n",
        "Y_datagen.fit(y_train, augment=True, seed=13)\n",
        "\n",
        "# Create flow generators for both X_train and y_train\n",
        "X_train_augmented = X_datagen.flow(X_train_reshaped, batch_size=16, shuffle=True, seed=13)\n",
        "Y_train_augmented = Y_datagen.flow(y_train, batch_size=16, shuffle=True, seed=13)\n",
        "\n",
        "# Generate augmented data and save to new NumPy arrays\n",
        "num_batches = len(X_train_augmented)\n",
        "augmented_X_train = np.zeros_like(X_train)\n",
        "augmented_y_train = np.zeros_like(y_train)\n",
        "\n",
        "for i in range(num_batches):\n",
        "    X_batch_augmented = X_train_augmented[i]\n",
        "    y_batch_augmented = Y_train_augmented[i]\n",
        "\n",
        "    # Update augmented arrays\n",
        "    augmented_X_train[i * 16 : (i + 1) * 16] = X_batch_augmented\n",
        "    augmented_y_train[i * 16 : (i + 1) * 16] = y_batch_augmented"
      ],
      "metadata": {
        "execution": {
          "iopub.status.busy": "2023-12-24T07:54:15.749336Z",
          "iopub.status.idle": "2023-12-24T07:54:15.749683Z",
          "shell.execute_reply.started": "2023-12-24T07:54:15.749516Z",
          "shell.execute_reply": "2023-12-24T07:54:15.749533Z"
        },
        "trusted": true,
        "id": "-BNx0hpLZkIG"
      },
      "execution_count": null,
      "outputs": []
    },
    {
      "cell_type": "code",
      "source": [
        "print(type(X_train_augmented))"
      ],
      "metadata": {
        "execution": {
          "iopub.status.busy": "2023-12-24T07:54:15.750897Z",
          "iopub.status.idle": "2023-12-24T07:54:15.751242Z",
          "shell.execute_reply.started": "2023-12-24T07:54:15.751077Z",
          "shell.execute_reply": "2023-12-24T07:54:15.751094Z"
        },
        "trusted": true,
        "id": "Vwb55h3DZkIG"
      },
      "execution_count": null,
      "outputs": []
    },
    {
      "cell_type": "code",
      "source": [
        "print(num_batches)"
      ],
      "metadata": {
        "execution": {
          "iopub.status.busy": "2023-12-24T07:54:15.752325Z",
          "iopub.status.idle": "2023-12-24T07:54:15.752663Z",
          "shell.execute_reply.started": "2023-12-24T07:54:15.752501Z",
          "shell.execute_reply": "2023-12-24T07:54:15.752516Z"
        },
        "trusted": true,
        "id": "qlkWUhFDZkIH"
      },
      "execution_count": null,
      "outputs": []
    },
    {
      "cell_type": "code",
      "source": [
        "print(augmented_X_train.shape)"
      ],
      "metadata": {
        "execution": {
          "iopub.status.busy": "2023-12-24T07:54:15.754011Z",
          "iopub.status.idle": "2023-12-24T07:54:15.754348Z",
          "shell.execute_reply.started": "2023-12-24T07:54:15.754186Z",
          "shell.execute_reply": "2023-12-24T07:54:15.754202Z"
        },
        "trusted": true,
        "id": "XozqSFT4ZkIH"
      },
      "execution_count": null,
      "outputs": []
    },
    {
      "cell_type": "code",
      "source": [
        "import cv2\n",
        "import matplotlib.pyplot as plt\n",
        "\n",
        "# Create a figure and axis without axes ticks\n",
        "fig, axs = plt.subplots(2, 5, figsize=(20, 8))\n",
        "\n",
        "for i in range(5):\n",
        "    # Display the original image\n",
        "    axs[0, i].imshow(X_train[i] / 255)\n",
        "    axs[0, i].axis('off')\n",
        "\n",
        "    # Display the corresponding mask\n",
        "    axs[1, i].imshow(y_train[i], cmap='gray')\n",
        "    axs[1, i].axis('off')\n",
        "\n",
        "plt.show()"
      ],
      "metadata": {
        "execution": {
          "iopub.status.busy": "2023-12-24T07:54:15.755408Z",
          "iopub.status.idle": "2023-12-24T07:54:15.755724Z",
          "shell.execute_reply.started": "2023-12-24T07:54:15.755568Z",
          "shell.execute_reply": "2023-12-24T07:54:15.755583Z"
        },
        "trusted": true,
        "id": "klGvwR1dZkIH"
      },
      "execution_count": null,
      "outputs": []
    },
    {
      "cell_type": "code",
      "source": [
        "import cv2\n",
        "import matplotlib.pyplot as plt\n",
        "\n",
        "# Create a figure and axis without axes ticks\n",
        "fig, axs = plt.subplots(2, 5, figsize=(20, 8))\n",
        "\n",
        "for i in range(5):\n",
        "    # Display the original image\n",
        "    axs[0, i].imshow(augmented_X_train[i] / 255)\n",
        "    axs[0, i].axis('off')\n",
        "\n",
        "    # Display the corresponding mask\n",
        "    axs[1, i].imshow(augmented_y_train[i] / 255, cmap='gray')\n",
        "    axs[1, i].axis('off')\n",
        "\n",
        "plt.show()"
      ],
      "metadata": {
        "execution": {
          "iopub.status.busy": "2023-12-24T07:54:15.756801Z",
          "iopub.status.idle": "2023-12-24T07:54:15.757137Z",
          "shell.execute_reply.started": "2023-12-24T07:54:15.756977Z",
          "shell.execute_reply": "2023-12-24T07:54:15.756993Z"
        },
        "trusted": true,
        "id": "3m3d8O0oZkIH"
      },
      "execution_count": null,
      "outputs": []
    },
    {
      "cell_type": "code",
      "source": [
        "X_train = np.concatenate([X_train, augmented_X_train])\n",
        "y_train = np.concatenate([y_train, augmented_y_train])"
      ],
      "metadata": {
        "execution": {
          "iopub.status.busy": "2023-12-24T07:54:15.758094Z",
          "iopub.status.idle": "2023-12-24T07:54:15.75843Z",
          "shell.execute_reply.started": "2023-12-24T07:54:15.758263Z",
          "shell.execute_reply": "2023-12-24T07:54:15.75828Z"
        },
        "trusted": true,
        "id": "BWo65EKHZkIH"
      },
      "execution_count": null,
      "outputs": []
    },
    {
      "cell_type": "code",
      "source": [
        "def unet(input_size=(256, 256, 3)):\n",
        "    inputs = Input(input_size)\n",
        "\n",
        "    # First DownConvolution / Encoder Leg will begin, so start with Conv2D\n",
        "    conv1 = Conv2D(filters=64, kernel_size=(3, 3), padding=\"same\")(inputs)\n",
        "    bn1 = Activation(\"relu\")(conv1)\n",
        "    conv1 = Conv2D(filters=64, kernel_size=(3, 3), padding=\"same\")(bn1)\n",
        "    bn1 = BatchNormalization(axis=3)(conv1)\n",
        "    bn1 = Activation(\"relu\")(bn1)\n",
        "    pool1 = MaxPooling2D(pool_size=(2, 2))(bn1)\n",
        "\n",
        "    conv2 = Conv2D(filters=128, kernel_size=(3, 3), padding=\"same\")(pool1)\n",
        "    bn2 = Activation(\"relu\")(conv2)\n",
        "    conv2 = Conv2D(filters=128, kernel_size=(3, 3), padding=\"same\")(bn2)\n",
        "    bn2 = BatchNormalization(axis=3)(conv2)\n",
        "    bn2 = Activation(\"relu\")(bn2)\n",
        "    pool2 = MaxPooling2D(pool_size=(2, 2))(bn2)\n",
        "\n",
        "    conv3 = Conv2D(filters=256, kernel_size=(3, 3), padding=\"same\")(pool2)\n",
        "    bn3 = Activation(\"relu\")(conv3)\n",
        "    conv3 = Conv2D(filters=256, kernel_size=(3, 3), padding=\"same\")(bn3)\n",
        "    bn3 = BatchNormalization(axis=3)(conv3)\n",
        "    bn3 = Activation(\"relu\")(bn3)\n",
        "    pool3 = MaxPooling2D(pool_size=(2, 2))(bn3)\n",
        "\n",
        "    conv4 = Conv2D(filters=512, kernel_size=(3, 3), padding=\"same\")(pool3)\n",
        "    bn4 = Activation(\"relu\")(conv4)\n",
        "    conv4 = Conv2D(filters=512, kernel_size=(3, 3), padding=\"same\")(bn4)\n",
        "    bn4 = BatchNormalization(axis=3)(conv4)\n",
        "    bn4 = Activation(\"relu\")(bn4)\n",
        "    pool4 = MaxPooling2D(pool_size=(2, 2))(bn4)\n",
        "\n",
        "    conv5 = Conv2D(filters=1024, kernel_size=(3, 3), padding=\"same\")(pool4)\n",
        "    bn5 = Activation(\"relu\")(conv5)\n",
        "    conv5 = Conv2D(filters=1024, kernel_size=(3, 3), padding=\"same\")(bn5)\n",
        "    bn5 = BatchNormalization(axis=3)(conv5)\n",
        "    bn5 = Activation(\"relu\")(bn5)\n",
        "\n",
        "    \"\"\" Now UpConvolution / Decoder Leg will begin, so start with Conv2DTranspose\n",
        "    The gray arrows (in the above image) indicate the skip connections that concatenate the encoder feature map with the decoder, which helps the backward flow of gradients for improved training. \"\"\"\n",
        "    \"\"\" After every concatenation we again apply two consecutive regular convolutions so that the model can learn to assemble a more precise output \"\"\"\n",
        "\n",
        "    up6 = concatenate([Conv2DTranspose(512, kernel_size=(2, 2), strides=(2, 2), padding=\"same\")(bn5), conv4], axis=3)\n",
        "    conv6 = Conv2D(filters=512, kernel_size=(3, 3), padding=\"same\")(up6)\n",
        "    bn6 = Activation(\"relu\")(conv6)\n",
        "    conv6 = Conv2D(filters=512, kernel_size=(3, 3), padding=\"same\")(bn6)\n",
        "    bn6 = BatchNormalization(axis=3)(conv6)\n",
        "    bn6 = Activation(\"relu\")(bn6)\n",
        "\n",
        "    up7 = concatenate([Conv2DTranspose(256, kernel_size=(2, 2), strides=(2, 2), padding=\"same\")(bn6), conv3], axis=3)\n",
        "    conv7 = Conv2D(filters=256, kernel_size=(3, 3), padding=\"same\")(up7)\n",
        "    bn7 = Activation(\"relu\")(conv7)\n",
        "    conv7 = Conv2D(filters=256, kernel_size=(3, 3), padding=\"same\")(bn7)\n",
        "    bn7 = BatchNormalization(axis=3)(conv7)\n",
        "    bn7 = Activation(\"relu\")(bn7)\n",
        "\n",
        "    up8 = concatenate([Conv2DTranspose(128, kernel_size=(2, 2), strides=(2, 2), padding=\"same\")(bn7), conv2], axis=3)\n",
        "    conv8 = Conv2D(filters=128, kernel_size=(3, 3), padding=\"same\")(up8)\n",
        "    bn8 = Activation(\"relu\")(conv8)\n",
        "    conv8 = Conv2D(filters=128, kernel_size=(3, 3), padding=\"same\")(bn8)\n",
        "    bn8 = BatchNormalization(axis=3)(conv8)\n",
        "    bn8 = Activation(\"relu\")(bn8)\n",
        "\n",
        "    up9 = concatenate([Conv2DTranspose(64, kernel_size=(2, 2), strides=(2, 2), padding=\"same\")(bn8), conv1], axis=3)\n",
        "    conv9 = Conv2D(filters=64, kernel_size=(3, 3), padding=\"same\")(up9)\n",
        "    bn9 = Activation(\"relu\")(conv9)\n",
        "    conv9 = Conv2D(filters=64, kernel_size=(3, 3), padding=\"same\")(bn9)\n",
        "    bn9 = BatchNormalization(axis=3)(conv9)\n",
        "    bn9 = Activation(\"relu\")(bn9)\n",
        "\n",
        "    conv10 = Conv2D(filters=1, kernel_size=(1, 1), activation=\"sigmoid\")(bn9)\n",
        "\n",
        "    return Model(inputs=[inputs], outputs=[conv10])"
      ],
      "metadata": {
        "execution": {
          "iopub.status.busy": "2023-12-24T07:54:15.759812Z",
          "iopub.status.idle": "2023-12-24T07:54:15.760334Z",
          "shell.execute_reply.started": "2023-12-24T07:54:15.760063Z",
          "shell.execute_reply": "2023-12-24T07:54:15.760098Z"
        },
        "trusted": true,
        "id": "Bvv_hh79ZkII"
      },
      "execution_count": null,
      "outputs": []
    },
    {
      "cell_type": "code",
      "source": [
        "# function to create dice coefficient\n",
        "def dice_coef(y_true, y_pred, smooth=1):\n",
        "    y_true_flatten = K.flatten(y_true)\n",
        "    y_pred_flatten = K.flatten(y_pred)\n",
        "\n",
        "    intersection = K.sum(y_true_flatten * y_pred_flatten)\n",
        "    union = K.sum(y_true_flatten) + K.sum(y_pred_flatten)\n",
        "    return (2 * intersection + smooth) / (union + smooth)\n",
        "\n",
        "# function to create dice loss\n",
        "def dice_loss(y_true, y_pred):\n",
        "    y_true = tf.cast(y_true, tf.float32)\n",
        "    y_pred = tf.math.sigmoid(y_pred)\n",
        "\n",
        "    intersection = 2 * tf.reduce_sum(y_true * y_pred)\n",
        "    union = tf.reduce_sum(y_true) + tf.reduce_sum(y_pred)\n",
        "\n",
        "    dice = (intersection + 1) / (union + 1)  # Adding 1 to avoid division by zero\n",
        "\n",
        "    return 1 - dice\n",
        "\n",
        "# function to create iou coefficient\n",
        "def iou_coef(y_true, y_pred, smooth=1):\n",
        "    intersection = K.sum(y_true * y_pred)\n",
        "    sum = K.sum(y_true + y_pred)\n",
        "    iou = (intersection + smooth) / (sum - intersection + smooth)\n",
        "    return iou"
      ],
      "metadata": {
        "execution": {
          "iopub.status.busy": "2023-12-24T07:54:15.76184Z",
          "iopub.status.idle": "2023-12-24T07:54:15.762467Z",
          "shell.execute_reply.started": "2023-12-24T07:54:15.762151Z",
          "shell.execute_reply": "2023-12-24T07:54:15.762176Z"
        },
        "trusted": true,
        "id": "zBpEOnq2ZkII"
      },
      "execution_count": null,
      "outputs": []
    },
    {
      "cell_type": "code",
      "source": [
        "model = unet()\n",
        "model.compile(optimizer='adam', loss='binary_crossentropy', metrics=['accuracy', iou_coef, dice_coef])\n",
        "model.summary()"
      ],
      "metadata": {
        "execution": {
          "iopub.status.busy": "2023-12-24T07:54:15.763654Z",
          "iopub.status.idle": "2023-12-24T07:54:15.764185Z",
          "shell.execute_reply.started": "2023-12-24T07:54:15.763913Z",
          "shell.execute_reply": "2023-12-24T07:54:15.763937Z"
        },
        "trusted": true,
        "id": "6yvzsLQ7ZkIJ"
      },
      "execution_count": null,
      "outputs": []
    },
    {
      "cell_type": "code",
      "source": [
        "# Create a custom callback to save the model based on the custom metric\n",
        "class CustomModelCheckpoint(ModelCheckpoint):\n",
        "    def __init__(self, filepath, monitor, **kwargs):\n",
        "        super().__init__(filepath, monitor=monitor, **kwargs)\n",
        "\n",
        "    def on_epoch_end(self, epoch, logs=None):\n",
        "        current = logs.get(self.monitor)\n",
        "        if current is None:\n",
        "            warnings.warn(\n",
        "                f'Can save best model only with {self.monitor} available, '\n",
        "                'skipping.', RuntimeWarning\n",
        "            )\n",
        "        else:\n",
        "            if self.monitor_op(current, self.best):\n",
        "                self.best = current\n",
        "                if self.save_best_only:\n",
        "                    filepath = self.filepath.format(epoch=epoch + 1, **logs)\n",
        "                    self.model.save(filepath, overwrite=True)"
      ],
      "metadata": {
        "execution": {
          "iopub.status.busy": "2023-12-24T07:54:15.765636Z",
          "iopub.status.idle": "2023-12-24T07:54:15.766041Z",
          "shell.execute_reply.started": "2023-12-24T07:54:15.765843Z",
          "shell.execute_reply": "2023-12-24T07:54:15.765861Z"
        },
        "trusted": true,
        "id": "Cu3IhiwKZkIJ"
      },
      "execution_count": null,
      "outputs": []
    },
    {
      "cell_type": "code",
      "source": [
        "modelCheckpoint = ModelCheckpoint('model_best_dice.h5', monitor='val_dice_coef', save_best_only=True)"
      ],
      "metadata": {
        "execution": {
          "iopub.status.busy": "2023-12-24T07:54:15.767684Z",
          "iopub.status.idle": "2023-12-24T07:54:15.768211Z",
          "shell.execute_reply.started": "2023-12-24T07:54:15.767945Z",
          "shell.execute_reply": "2023-12-24T07:54:15.76797Z"
        },
        "trusted": true,
        "id": "my4DzIyxZkIJ"
      },
      "execution_count": null,
      "outputs": []
    },
    {
      "cell_type": "code",
      "source": [
        "history = model.fit(X_train, y_train, validation_split=0.1, batch_size=32, epochs=120, callbacks=[modelCheckpoint])"
      ],
      "metadata": {
        "execution": {
          "iopub.status.busy": "2023-12-24T07:54:15.76956Z",
          "iopub.status.idle": "2023-12-24T07:54:15.770128Z",
          "shell.execute_reply.started": "2023-12-24T07:54:15.769855Z",
          "shell.execute_reply": "2023-12-24T07:54:15.76988Z"
        },
        "trusted": true,
        "id": "jF8brOx6ZkIJ"
      },
      "execution_count": null,
      "outputs": []
    },
    {
      "cell_type": "code",
      "source": [
        "def plot_training(hist):\n",
        "    '''\n",
        "    This function take training model and plot history of accuracy and losses with the best epoch in both of them.\n",
        "    '''\n",
        "\n",
        "    # Define needed variables\n",
        "    tr_acc = hist.history['accuracy']\n",
        "    tr_iou = hist.history['iou_coef']\n",
        "    tr_dice = hist.history['dice_coef']\n",
        "    tr_loss = hist.history['loss']\n",
        "\n",
        "    val_acc = hist.history['val_accuracy']\n",
        "    val_iou = hist.history['val_iou_coef']\n",
        "    val_dice = hist.history['val_dice_coef']\n",
        "    val_loss = hist.history['val_loss']\n",
        "\n",
        "    index_acc = np.argmax(val_acc)\n",
        "    acc_highest = val_acc[index_acc]\n",
        "    index_iou = np.argmax(val_iou)\n",
        "    iou_highest = val_iou[index_iou]\n",
        "    index_dice = np.argmax(val_dice)\n",
        "    dice_highest = val_dice[index_dice]\n",
        "    index_loss = np.argmin(val_loss)\n",
        "    val_lowest = val_loss[index_loss]\n",
        "\n",
        "    Epochs = [i+1 for i in range(len(tr_acc))]\n",
        "\n",
        "    acc_label = f'best epoch= {str(index_acc + 1)}'\n",
        "    iou_label = f'best epoch= {str(index_iou + 1)}'\n",
        "    dice_label = f'best epoch= {str(index_dice + 1)}'\n",
        "    loss_label = f'best epoch= {str(index_loss + 1)}'\n",
        "\n",
        "    # Plot training history\n",
        "    plt.figure(figsize= (20, 20))\n",
        "    plt.style.use('fivethirtyeight')\n",
        "\n",
        "    # Training Accuracy\n",
        "    plt.subplot(2, 2, 1)\n",
        "    plt.plot(Epochs, tr_acc, 'r', label= 'Training Accuracy')\n",
        "    plt.plot(Epochs, val_acc, 'g', label= 'Validation Accuracy')\n",
        "    plt.scatter(index_acc + 1 , acc_highest, s= 150, c= 'blue', label= acc_label)\n",
        "    plt.scatter(index_iou + 1 , iou_highest, s= 150, c= 'blue', label= acc_label)\n",
        "    plt.title('Training and Validation Accuracy')\n",
        "    plt.xlabel('Epochs')\n",
        "    plt.ylabel('Accuracy')\n",
        "    plt.legend()\n",
        "\n",
        "    # Training IoU\n",
        "    plt.subplot(2, 2, 2)\n",
        "    plt.plot(Epochs, tr_iou, 'r', label= 'Training IoU')\n",
        "    plt.plot(Epochs, val_iou, 'g', label= 'Validation IoU')\n",
        "    plt.scatter(index_iou + 1 , iou_highest, s= 150, c= 'blue', label= iou_label)\n",
        "    plt.title('Training and Validation IoU Coefficient')\n",
        "    plt.xlabel('Epochs')\n",
        "    plt.ylabel('IoU')\n",
        "    plt.legend()\n",
        "\n",
        "    # Training Dice\n",
        "    plt.subplot(2, 2, 3)\n",
        "    plt.plot(Epochs, tr_dice, 'r', label= 'Training Dice')\n",
        "    plt.plot(Epochs, val_dice, 'g', label= 'Validation Dice')\n",
        "    plt.scatter(index_dice + 1 , dice_highest, s= 150, c= 'blue', label= dice_label)\n",
        "    plt.title('Training and Validation Dice Coefficient')\n",
        "    plt.xlabel('Epochs')\n",
        "    plt.ylabel('Dice')\n",
        "    plt.legend()\n",
        "\n",
        "    # Training Loss\n",
        "    plt.subplot(2, 2, 4)\n",
        "    plt.plot(Epochs, tr_loss, 'r', label= 'Training loss')\n",
        "    plt.plot(Epochs, val_loss, 'g', label= 'Validation loss')\n",
        "    plt.scatter(index_loss + 1, val_lowest, s= 150, c= 'blue', label= loss_label)\n",
        "    plt.scatter(index_dice, hist.history['val_loss'][index_dice], s= 150, c= 'blue', label= loss_label)\n",
        "    plt.title('Training and Validation Loss')\n",
        "    plt.xlabel('Epochs')\n",
        "    plt.ylabel('Loss')\n",
        "    plt.legend()\n",
        "\n",
        "    plt.tight_layout\n",
        "    plt.show()"
      ],
      "metadata": {
        "execution": {
          "iopub.status.busy": "2023-12-24T07:54:15.776367Z",
          "iopub.status.idle": "2023-12-24T07:54:15.776764Z",
          "shell.execute_reply.started": "2023-12-24T07:54:15.776582Z",
          "shell.execute_reply": "2023-12-24T07:54:15.776601Z"
        },
        "trusted": true,
        "id": "bRqOcvmIZkIK"
      },
      "execution_count": null,
      "outputs": []
    },
    {
      "cell_type": "code",
      "source": [
        "plot_training(history)"
      ],
      "metadata": {
        "execution": {
          "iopub.status.busy": "2023-12-24T07:54:15.778285Z",
          "iopub.status.idle": "2023-12-24T07:54:15.778659Z",
          "shell.execute_reply.started": "2023-12-24T07:54:15.778485Z",
          "shell.execute_reply": "2023-12-24T07:54:15.778502Z"
        },
        "trusted": true,
        "id": "6dFdyJnzZkIK"
      },
      "execution_count": null,
      "outputs": []
    },
    {
      "cell_type": "code",
      "source": [
        "from tensorflow.keras.models import Model, load_model, save_model\n",
        "best_model = load_model('/kaggle/working/model_best_iou.h5')"
      ],
      "metadata": {
        "execution": {
          "iopub.status.busy": "2023-12-24T20:12:14.117279Z",
          "iopub.execute_input": "2023-12-24T20:12:14.117624Z",
          "iopub.status.idle": "2023-12-24T20:12:14.392084Z",
          "shell.execute_reply.started": "2023-12-24T20:12:14.117598Z",
          "shell.execute_reply": "2023-12-24T20:12:14.390882Z"
        },
        "trusted": true,
        "id": "hDqErh-gZkIK"
      },
      "execution_count": null,
      "outputs": []
    },
    {
      "cell_type": "code",
      "source": [
        "#IOU\n",
        "y_pred=best_model.predict(X_test)\n",
        "y_pred_thresholded = y_pred > 0.5"
      ],
      "metadata": {
        "execution": {
          "iopub.status.busy": "2023-12-24T07:54:15.780295Z",
          "iopub.status.idle": "2023-12-24T07:54:15.780712Z",
          "shell.execute_reply.started": "2023-12-24T07:54:15.780531Z",
          "shell.execute_reply": "2023-12-24T07:54:15.78055Z"
        },
        "trusted": true,
        "id": "YHZqyxPkZkIK"
      },
      "execution_count": null,
      "outputs": []
    },
    {
      "cell_type": "code",
      "source": [
        "from tensorflow.keras.metrics import MeanIoU"
      ],
      "metadata": {
        "execution": {
          "iopub.status.busy": "2023-12-24T07:54:15.782209Z",
          "iopub.status.idle": "2023-12-24T07:54:15.782592Z",
          "shell.execute_reply.started": "2023-12-24T07:54:15.782412Z",
          "shell.execute_reply": "2023-12-24T07:54:15.782431Z"
        },
        "trusted": true,
        "id": "V4f3BcjtZkIL"
      },
      "execution_count": null,
      "outputs": []
    },
    {
      "cell_type": "code",
      "source": [
        "n_classes = 2\n",
        "IOU_keras = MeanIoU(num_classes=n_classes)\n",
        "IOU_keras.update_state(y_pred_thresholded, y_test)\n",
        "print(\"Mean IoU =\", IOU_keras.result().numpy())"
      ],
      "metadata": {
        "execution": {
          "iopub.status.busy": "2023-12-24T07:54:15.783707Z",
          "iopub.status.idle": "2023-12-24T07:54:15.784107Z",
          "shell.execute_reply.started": "2023-12-24T07:54:15.783924Z",
          "shell.execute_reply": "2023-12-24T07:54:15.783943Z"
        },
        "trusted": true,
        "id": "JVkRoWxhZkIL"
      },
      "execution_count": null,
      "outputs": []
    },
    {
      "cell_type": "code",
      "source": [
        "threshold = 0.5\n",
        "test_img_number = random.randint(0, len(X_test)-1)\n",
        "test_img = X_test[test_img_number]\n",
        "ground_truth=y_test[test_img_number]\n",
        "test_img_input=np.expand_dims(test_img, 0)\n",
        "print(test_img_input.shape)\n",
        "prediction = (best_model.predict(test_img_input)[0,:,:,0] > 0.5).astype(np.uint8)\n",
        "print(prediction.shape)\n",
        "\n",
        "plt.figure(figsize=(16, 8))\n",
        "plt.subplot(231)\n",
        "plt.title('Testing Image')\n",
        "plt.imshow(test_img/255)\n",
        "plt.subplot(232)\n",
        "plt.title('Testing Label')\n",
        "plt.imshow(ground_truth[:,:,0], cmap='gray')\n",
        "plt.subplot(233)\n",
        "plt.title('Prediction on test image')\n",
        "plt.imshow(prediction, cmap='gray')\n",
        "\n",
        "plt.show()"
      ],
      "metadata": {
        "execution": {
          "iopub.status.busy": "2023-12-24T07:54:15.785581Z",
          "iopub.status.idle": "2023-12-24T07:54:15.785974Z",
          "shell.execute_reply.started": "2023-12-24T07:54:15.785793Z",
          "shell.execute_reply": "2023-12-24T07:54:15.785815Z"
        },
        "trusted": true,
        "id": "iwqqlaHHZkIL"
      },
      "execution_count": null,
      "outputs": []
    },
    {
      "cell_type": "code",
      "source": [
        "img = tf.keras.preprocessing.image.load_img(r\"/kaggle/input/kvasir-dataset-for-classification-and-segmentation/kvasir-seg/Kvasir-SEG/images/cju8ca4geseia0850i2ru11hw.jpg\", target_size=(256, 256))\n",
        "input_array = tf.keras.preprocessing.image.img_to_array(img)\n",
        "input_array = np.array([input_array])  # Convert single image to a batch.\n",
        "predictions = model.predict(input_array)"
      ],
      "metadata": {
        "execution": {
          "iopub.status.busy": "2023-12-24T07:54:15.789063Z",
          "iopub.status.idle": "2023-12-24T07:54:15.789575Z",
          "shell.execute_reply.started": "2023-12-24T07:54:15.789321Z",
          "shell.execute_reply": "2023-12-24T07:54:15.789345Z"
        },
        "trusted": true,
        "id": "1o_hMo3kZkIL"
      },
      "execution_count": null,
      "outputs": []
    },
    {
      "cell_type": "code",
      "source": [
        "plt.figure(figsize=(15, 12))\n",
        "plt.subplot(1, 3, 1)\n",
        "plt.imshow(np.squeeze(img))\n",
        "plt.axis(False)\n",
        "plt.subplot(1, 3, 2)\n",
        "plt.imshow(np.squeeze(predictions), cmap='gray')\n",
        "plt.axis(False)\n",
        "plt.subplot(1, 3, 3)\n",
        "plt.imshow(np.squeeze(img))\n",
        "# plt.imshow(msk,alpha=0.5)\n",
        "plt.imshow(np.squeeze(predictions), alpha=0.5, cmap='gray')\n",
        "plt.axis(False)\n",
        "plt.show()"
      ],
      "metadata": {
        "execution": {
          "iopub.status.busy": "2023-12-24T07:54:15.791031Z",
          "iopub.status.idle": "2023-12-24T07:54:15.791534Z",
          "shell.execute_reply.started": "2023-12-24T07:54:15.791285Z",
          "shell.execute_reply": "2023-12-24T07:54:15.791309Z"
        },
        "trusted": true,
        "id": "zzmJwH9JZkIM"
      },
      "execution_count": null,
      "outputs": []
    },
    {
      "cell_type": "code",
      "source": [
        "val_iou = history.history['val_iou_coef']\n",
        "index_iou = np.argmax(val_iou)\n",
        "print(index_iou)"
      ],
      "metadata": {
        "execution": {
          "iopub.status.busy": "2023-12-24T07:54:15.792664Z",
          "iopub.status.idle": "2023-12-24T07:54:15.793188Z",
          "shell.execute_reply.started": "2023-12-24T07:54:15.792927Z",
          "shell.execute_reply": "2023-12-24T07:54:15.792951Z"
        },
        "trusted": true,
        "id": "UHWTgnVuZkIM"
      },
      "execution_count": null,
      "outputs": []
    },
    {
      "cell_type": "code",
      "source": [
        "import random\n",
        "random_number = random.randint(0, len(X_test))\n",
        "# random_number = 0\n",
        "name_img = X_test[random_number]\n",
        "ran_img = tf.keras.preprocessing.image.load_img(f\"/kaggle/input/kvasir-dataset-for-classification-and-segmentation/kvasir-seg/Kvasir-SEG/images/{name_img}\", target_size=(256, 256))\n",
        "ran_input_array = tf.keras.preprocessing.image.img_to_array(ran_img)\n",
        "ran_input_array = np.array([ran_input_array])\n",
        "pre_ran_num = model.predict(ran_input_array)\n",
        "\n",
        "plt.figure(figsize=(15, 12))\n",
        "plt.subplot(1, 3, 1)\n",
        "plt.imshow(np.squeeze(ran_input_array)/255)\n",
        "plt.axis(False)\n",
        "\n",
        "plt.subplot(1, 3, 2)\n",
        "plt.imshow(np.squeeze(pre_ran_num), cmap='gray')\n",
        "plt.axis(False)\n",
        "\n",
        "plt.subplot(1, 3, 3)\n",
        "plt.imshow(np.squeeze(ran_input_array)/255)\n",
        "# plt.imshow(msk,alpha=0.5)\n",
        "plt.imshow(np.squeeze(pre_ran_num), alpha=0.5, cmap='gray')\n",
        "plt.axis(False)\n",
        "\n",
        "plt.show()"
      ],
      "metadata": {
        "execution": {
          "iopub.status.busy": "2023-12-24T07:54:15.794697Z",
          "iopub.status.idle": "2023-12-24T07:54:15.795231Z",
          "shell.execute_reply.started": "2023-12-24T07:54:15.794962Z",
          "shell.execute_reply": "2023-12-24T07:54:15.794987Z"
        },
        "trusted": true,
        "id": "EFn_41LKZkIN"
      },
      "execution_count": null,
      "outputs": []
    },
    {
      "cell_type": "markdown",
      "source": [
        "### ### ###"
      ],
      "metadata": {
        "id": "r72JtKraZkIN"
      }
    },
    {
      "cell_type": "code",
      "source": [
        "# import system libs\n",
        "import os\n",
        "import time\n",
        "import random\n",
        "import pathlib\n",
        "import itertools\n",
        "from glob import glob\n",
        "from tqdm import tqdm_notebook, tnrange\n",
        "\n",
        "# import data handling tools\n",
        "import cv2\n",
        "import numpy as np\n",
        "import pandas as pd\n",
        "import seaborn as sns\n",
        "import matplotlib.pyplot as plt\n",
        "# %matplotlib inline\n",
        "from skimage.color import rgb2gray\n",
        "from skimage.transform import resize\n",
        "from sklearn.model_selection import train_test_split\n",
        "from skimage.io import imread, imshow, concatenate_images\n",
        "\n",
        "# import Deep learning Libraries\n",
        "import tensorflow as tf\n",
        "from tensorflow import keras\n",
        "from tensorflow.keras import backend as K\n",
        "from tensorflow.keras.models import Model, load_model, save_model\n",
        "from tensorflow.keras.preprocessing.image import ImageDataGenerator\n",
        "from tensorflow.keras.optimizers import Adam, Adamax\n",
        "from tensorflow.keras.callbacks import EarlyStopping, ModelCheckpoint\n",
        "from tensorflow.keras.layers import Input, Activation, BatchNormalization, Dropout, Lambda, Conv2D, Conv2DTranspose, MaxPooling2D, concatenate\n",
        "\n",
        "# Ignore Warnings\n",
        "import warnings\n",
        "warnings.filterwarnings(\"ignore\")"
      ],
      "metadata": {
        "execution": {
          "iopub.status.busy": "2023-12-24T07:54:15.796709Z",
          "iopub.status.idle": "2023-12-24T07:54:15.797249Z",
          "shell.execute_reply.started": "2023-12-24T07:54:15.79698Z",
          "shell.execute_reply": "2023-12-24T07:54:15.797005Z"
        },
        "trusted": true,
        "id": "BD6TbKZiZkIN"
      },
      "execution_count": null,
      "outputs": []
    },
    {
      "cell_type": "code",
      "source": [
        "X = next(os.walk('/kaggle/input/kvasir-dataset-for-classification-and-segmentation/kvasir-seg/Kvasir-SEG/images'))[2]\n",
        "y = next(os.walk('/kaggle/input/kvasir-dataset-for-classification-and-segmentation/kvasir-seg/Kvasir-SEG/masks'))[2]"
      ],
      "metadata": {
        "execution": {
          "iopub.status.busy": "2023-12-24T07:54:15.798584Z",
          "iopub.status.idle": "2023-12-24T07:54:15.799148Z",
          "shell.execute_reply.started": "2023-12-24T07:54:15.798846Z",
          "shell.execute_reply": "2023-12-24T07:54:15.798873Z"
        },
        "trusted": true,
        "id": "bzbeNgTxZkIO"
      },
      "execution_count": null,
      "outputs": []
    },
    {
      "cell_type": "code",
      "source": [
        "IMG_CHANNELS, IMG_WIDTH, IMG_HEIGHT = 3, 512, 512"
      ],
      "metadata": {
        "execution": {
          "iopub.status.busy": "2023-12-24T07:54:15.800363Z",
          "iopub.status.idle": "2023-12-24T07:54:15.800926Z",
          "shell.execute_reply.started": "2023-12-24T07:54:15.800612Z",
          "shell.execute_reply": "2023-12-24T07:54:15.800638Z"
        },
        "trusted": true,
        "id": "HjrZjYftZkIO"
      },
      "execution_count": null,
      "outputs": []
    },
    {
      "cell_type": "code",
      "source": [
        "len_train = 800"
      ],
      "metadata": {
        "execution": {
          "iopub.status.busy": "2023-12-24T07:54:15.805792Z",
          "iopub.status.idle": "2023-12-24T07:54:15.806396Z",
          "shell.execute_reply.started": "2023-12-24T07:54:15.806076Z",
          "shell.execute_reply": "2023-12-24T07:54:15.806145Z"
        },
        "trusted": true,
        "id": "qBGLM2qiZkIO"
      },
      "execution_count": null,
      "outputs": []
    },
    {
      "cell_type": "code",
      "source": [
        "images = [cv2.resize(cv2.imread('/kaggle/input/kvasir-dataset-for-classification-and-segmentation/kvasir-seg/Kvasir-SEG/images/'+path), (256,256)) for path in X]\n",
        "\n",
        "masks = [cv2.resize(cv2.imread('/kaggle/input/kvasir-dataset-for-classification-and-segmentation/kvasir-seg/Kvasir-SEG/masks/'+path, 0), (256,256)) for path in y]\n",
        "\n",
        "images = np.array(images)\n",
        "masks = np.array(masks)[:, :, :, np.newaxis]"
      ],
      "metadata": {
        "execution": {
          "iopub.status.busy": "2023-12-24T07:54:15.807411Z",
          "iopub.status.idle": "2023-12-24T07:54:15.807945Z",
          "shell.execute_reply.started": "2023-12-24T07:54:15.807668Z",
          "shell.execute_reply": "2023-12-24T07:54:15.807693Z"
        },
        "trusted": true,
        "id": "4qDrvQczZkIO"
      },
      "execution_count": null,
      "outputs": []
    },
    {
      "cell_type": "code",
      "source": [
        "print(images.shape)\n",
        "print(masks.shape)"
      ],
      "metadata": {
        "execution": {
          "iopub.status.busy": "2023-12-24T07:54:15.809222Z",
          "iopub.status.idle": "2023-12-24T07:54:15.809733Z",
          "shell.execute_reply.started": "2023-12-24T07:54:15.809477Z",
          "shell.execute_reply": "2023-12-24T07:54:15.8095Z"
        },
        "trusted": true,
        "id": "3MztjNCqZkIP"
      },
      "execution_count": null,
      "outputs": []
    },
    {
      "cell_type": "code",
      "source": [
        "plt.figure(figsize=(12, 6))\n",
        "\n",
        "plt.subplot(1, 2, 1)\n",
        "plt.imshow(cv2.cvtColor(images[0], cv2.COLOR_BGR2RGB))\n",
        "plt.axis(False)\n",
        "\n",
        "plt.subplot(1, 2, 2)\n",
        "plt.imshow(cv2.cvtColor(masks[0], cv2.COLOR_BGR2RGB))\n",
        "plt.axis(False)\n",
        "\n",
        "plt.show()"
      ],
      "metadata": {
        "execution": {
          "iopub.status.busy": "2023-12-24T07:54:15.811292Z",
          "iopub.status.idle": "2023-12-24T07:54:15.811864Z",
          "shell.execute_reply.started": "2023-12-24T07:54:15.811582Z",
          "shell.execute_reply": "2023-12-24T07:54:15.811611Z"
        },
        "trusted": true,
        "id": "Aa4WzV_pZkIP"
      },
      "execution_count": null,
      "outputs": []
    },
    {
      "cell_type": "code",
      "source": [
        "import tensorflow as tf\n",
        "from tensorflow.keras.applications import ResNet50\n",
        "from tensorflow.keras.layers import Conv2D, UpSampling2D\n",
        "from tensorflow.keras.models import Model\n",
        "from tensorflow.keras.losses import BinaryCrossentropy\n",
        "from tensorflow.keras.metrics import MeanIoU\n",
        "from tensorflow.keras.optimizers import Adam"
      ],
      "metadata": {
        "execution": {
          "iopub.status.busy": "2023-12-24T07:54:15.813331Z",
          "iopub.status.idle": "2023-12-24T07:54:15.813848Z",
          "shell.execute_reply.started": "2023-12-24T07:54:15.813577Z",
          "shell.execute_reply": "2023-12-24T07:54:15.813601Z"
        },
        "trusted": true,
        "id": "FuQeJRdeZkIP"
      },
      "execution_count": null,
      "outputs": []
    },
    {
      "cell_type": "code",
      "source": [
        "X_train, X_test, y_train, y_test = train_test_split(images, masks, test_size=0.2, random_state=42)"
      ],
      "metadata": {
        "execution": {
          "iopub.status.busy": "2023-12-24T07:54:15.815356Z",
          "iopub.status.idle": "2023-12-24T07:54:15.815877Z",
          "shell.execute_reply.started": "2023-12-24T07:54:15.815605Z",
          "shell.execute_reply": "2023-12-24T07:54:15.81563Z"
        },
        "trusted": true,
        "id": "juZ6Bw_DZkIQ"
      },
      "execution_count": null,
      "outputs": []
    },
    {
      "cell_type": "code",
      "source": [
        "X_train.shape"
      ],
      "metadata": {
        "execution": {
          "iopub.status.busy": "2023-12-24T07:54:15.817185Z",
          "iopub.status.idle": "2023-12-24T07:54:15.817701Z",
          "shell.execute_reply.started": "2023-12-24T07:54:15.817446Z",
          "shell.execute_reply": "2023-12-24T07:54:15.81747Z"
        },
        "trusted": true,
        "id": "DDRB7iryZkIQ"
      },
      "execution_count": null,
      "outputs": []
    },
    {
      "cell_type": "markdown",
      "source": [
        "## Model"
      ],
      "metadata": {
        "id": "Ue6yPaX8ZkIQ"
      }
    },
    {
      "cell_type": "code",
      "source": [
        "# Defining the Convolutional Block\n",
        "def conv_block(inputs, num_filters):\n",
        "    # Applying the sequence of Convolutional, Batch Normalization\n",
        "    # and Activation Layers to the input tensor\n",
        "    x = tf.keras.Sequential([\n",
        "        # Convolutional Layer\n",
        "        Conv2D(num_filters, 3, padding='same'),\n",
        "        # Batch Normalization Layer\n",
        "        BatchNormalization(),\n",
        "        # Activation Layer\n",
        "        Activation('relu'),\n",
        "        # Convolutional Layer\n",
        "        Conv2D(num_filters, 3, padding='same'),\n",
        "        # Batch Normalization Layer\n",
        "        BatchNormalization(),\n",
        "        # Activation Layer\n",
        "        Activation('relu')\n",
        "    ])(inputs)\n",
        "\n",
        "    # Returning the output of the Convolutional Block\n",
        "    return x"
      ],
      "metadata": {
        "execution": {
          "iopub.status.busy": "2023-12-24T07:54:15.818999Z",
          "iopub.status.idle": "2023-12-24T07:54:15.819513Z",
          "shell.execute_reply.started": "2023-12-24T07:54:15.819257Z",
          "shell.execute_reply": "2023-12-24T07:54:15.819282Z"
        },
        "trusted": true,
        "id": "WKnD8kAcZkIQ"
      },
      "execution_count": null,
      "outputs": []
    },
    {
      "cell_type": "code",
      "source": [
        "# Defining the Unet++ Model\n",
        "def unet_plus_plus_model(input_shape=(256, 256, 3), deep_supervision=True):\n",
        "    inputs = tf.keras.layers.Input(shape=input_shape)\n",
        "\n",
        "    # Encoding Path\n",
        "    x_00 = conv_block(inputs, 64)\n",
        "    x_10 = conv_block(tf.keras.layers.MaxPooling2D()(x_00), 128)\n",
        "    x_20 = conv_block(tf.keras.layers.MaxPooling2D()(x_10), 256)\n",
        "    x_30 = conv_block(tf.keras.layers.MaxPooling2D()(x_20), 512)\n",
        "    x_40 = conv_block(tf.keras.layers.MaxPooling2D()(x_30), 1024)\n",
        "\n",
        "    # Nested Decoding Path\n",
        "    x_01 = conv_block(tf.keras.layers.concatenate(\n",
        "        [x_00, tf.keras.layers.UpSampling2D()(x_10)]), 64)\n",
        "    x_11 = conv_block(tf.keras.layers.concatenate(\n",
        "        [x_10, tf.keras.layers.UpSampling2D()(x_20)]), 128)\n",
        "    x_21 = conv_block(tf.keras.layers.concatenate(\n",
        "        [x_20, tf.keras.layers.UpSampling2D()(x_30)]), 256)\n",
        "    x_31 = conv_block(tf.keras.layers.concatenate(\n",
        "        [x_30, tf.keras.layers.UpSampling2D()(x_40)]), 512)\n",
        "\n",
        "    x_02 = conv_block(tf.keras.layers.concatenate(\n",
        "        [x_00, x_01, tf.keras.layers.UpSampling2D()(x_11)]), 64)\n",
        "    x_12 = conv_block(tf.keras.layers.concatenate(\n",
        "        [x_10, x_11, tf.keras.layers.UpSampling2D()(x_21)]), 128)\n",
        "    x_22 = conv_block(tf.keras.layers.concatenate(\n",
        "        [x_20, x_21, tf.keras.layers.UpSampling2D()(x_31)]), 256)\n",
        "\n",
        "    x_03 = conv_block(tf.keras.layers.concatenate(\n",
        "        [x_00, x_01, x_02, tf.keras.layers.UpSampling2D()(x_12)]), 64)\n",
        "    x_13 = conv_block(tf.keras.layers.concatenate(\n",
        "        [x_10, x_11, x_12, tf.keras.layers.UpSampling2D()(x_22)]), 128)\n",
        "\n",
        "    x_04 = conv_block(tf.keras.layers.concatenate(\n",
        "        [x_00, x_01, x_02, x_03, tf.keras.layers.UpSampling2D()(x_13)]), 64)\n",
        "\n",
        "    # Deep Supervision Path\n",
        "    # If deep supervision is enabled, then the model will output the segmentation maps\n",
        "    # at each stage of the decoding path\n",
        "    if deep_supervision:\n",
        "        outputs = [\n",
        "            tf.keras.layers.Conv2D(num_classes, 1)(x_01),\n",
        "            tf.keras.layers.Conv2D(num_classes, 1)(x_02),\n",
        "            tf.keras.layers.Conv2D(num_classes, 1)(x_03),\n",
        "            tf.keras.layers.Conv2D(num_classes, 1)(x_04)\n",
        "        ]\n",
        "        # Concatenating the segmentation maps\n",
        "        outputs = tf.keras.layers.concatenate(outputs, axis=0)\n",
        "\n",
        "    # If deep supervision is disabled, then the model will output the final segmentation map\n",
        "    # which is the segmentation map at the end of the decoding path\n",
        "    else:\n",
        "        outputs = tf.keras.layers.Conv2D(filters=1, kernel_size=(1, 1), activation=\"sigmoid\")(x_04)\n",
        "\n",
        "    # Creating the model\n",
        "    model = tf.keras.Model(\n",
        "        inputs=inputs, outputs=outputs, name='Unet_plus_plus')\n",
        "\n",
        "    # Returning the model\n",
        "    return model"
      ],
      "metadata": {
        "execution": {
          "iopub.status.busy": "2023-12-24T07:54:15.820683Z",
          "iopub.status.idle": "2023-12-24T07:54:15.821207Z",
          "shell.execute_reply.started": "2023-12-24T07:54:15.820947Z",
          "shell.execute_reply": "2023-12-24T07:54:15.820971Z"
        },
        "trusted": true,
        "id": "kpmxvaTGZkIR"
      },
      "execution_count": null,
      "outputs": []
    },
    {
      "cell_type": "code",
      "source": [
        "# Creating the model\n",
        "model = unet_plus_plus_model(input_shape=(\n",
        "    256, 256, 3), deep_supervision=False)\n",
        "\n",
        "# Printing the model summary\n",
        "model.summary()"
      ],
      "metadata": {
        "execution": {
          "iopub.status.busy": "2023-12-24T07:54:15.822432Z",
          "iopub.status.idle": "2023-12-24T07:54:15.822948Z",
          "shell.execute_reply.started": "2023-12-24T07:54:15.822673Z",
          "shell.execute_reply": "2023-12-24T07:54:15.822696Z"
        },
        "trusted": true,
        "id": "f079ZByjZkIR"
      },
      "execution_count": null,
      "outputs": []
    },
    {
      "cell_type": "code",
      "source": [
        "# function to create dice coefficient\n",
        "def dice_coef(y_true, y_pred, smooth=100):\n",
        "    y_true_flatten = K.flatten(y_true)\n",
        "    y_pred_flatten = K.flatten(y_pred)\n",
        "\n",
        "    intersection = K.sum(y_true_flatten * y_pred_flatten)\n",
        "    union = K.sum(y_true_flatten) + K.sum(y_pred_flatten)\n",
        "    return (2 * intersection + smooth) / (union + smooth)\n",
        "\n",
        "# function to create dice loss\n",
        "def dice_loss(y_true, y_pred, smooth=100):\n",
        "    return -dice_coef(y_true, y_pred, smooth)\n",
        "\n",
        "# function to create iou coefficient\n",
        "def iou_coef(y_true, y_pred, smooth=100):\n",
        "    intersection = K.sum(y_true * y_pred)\n",
        "    sum = K.sum(y_true + y_pred)\n",
        "    iou = (intersection + smooth) / (sum - intersection + smooth)\n",
        "    return iou"
      ],
      "metadata": {
        "execution": {
          "iopub.status.busy": "2023-12-24T07:54:15.824858Z",
          "iopub.status.idle": "2023-12-24T07:54:15.825424Z",
          "shell.execute_reply.started": "2023-12-24T07:54:15.825144Z",
          "shell.execute_reply": "2023-12-24T07:54:15.82517Z"
        },
        "trusted": true,
        "id": "Fow8z9K_ZkIR"
      },
      "execution_count": null,
      "outputs": []
    },
    {
      "cell_type": "code",
      "source": [
        "model.compile(optimizer='adam', loss='binary_crossentropy', metrics=['accuracy', iou_coef, dice_coef])\n",
        "# model.compile(Adamax(learning_rate= 0.001), loss= dice_loss, metrics= ['accuracy', iou_coef, dice_coef])\n"
      ],
      "metadata": {
        "execution": {
          "iopub.status.busy": "2023-12-24T07:54:15.826698Z",
          "iopub.status.idle": "2023-12-24T07:54:15.827229Z",
          "shell.execute_reply.started": "2023-12-24T07:54:15.826965Z",
          "shell.execute_reply": "2023-12-24T07:54:15.826989Z"
        },
        "trusted": true,
        "id": "6D3Ve9n-ZkIS"
      },
      "execution_count": null,
      "outputs": []
    },
    {
      "cell_type": "code",
      "source": [
        "# history = model.fit(X_train, y_train, validation_split=0.2, batch_size=16, epochs=30)"
      ],
      "metadata": {
        "execution": {
          "iopub.status.busy": "2023-12-24T07:54:15.828606Z",
          "iopub.status.idle": "2023-12-24T07:54:15.829167Z",
          "shell.execute_reply.started": "2023-12-24T07:54:15.828903Z",
          "shell.execute_reply": "2023-12-24T07:54:15.828927Z"
        },
        "trusted": true,
        "id": "TwYSiU1ZZkIS"
      },
      "execution_count": null,
      "outputs": []
    },
    {
      "cell_type": "code",
      "source": [
        "from efficientnet import EfficientNetB4"
      ],
      "metadata": {
        "execution": {
          "iopub.status.busy": "2023-12-24T07:54:15.830202Z",
          "iopub.status.idle": "2023-12-24T07:54:15.830726Z",
          "shell.execute_reply.started": "2023-12-24T07:54:15.83044Z",
          "shell.execute_reply": "2023-12-24T07:54:15.830465Z"
        },
        "trusted": true,
        "id": "1k7vCIAxZkIS"
      },
      "execution_count": null,
      "outputs": []
    }
  ]
}